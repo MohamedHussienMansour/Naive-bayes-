{
 "cells": [
  {
   "cell_type": "code",
   "execution_count": 137,
   "id": "56a8b9cb",
   "metadata": {},
   "outputs": [],
   "source": [
    "import numpy as np \n",
    "import pandas as pd\n",
    "import matplotlib.pyplot as plt"
   ]
  },
  {
   "cell_type": "code",
   "execution_count": 150,
   "id": "435427b1",
   "metadata": {},
   "outputs": [
    {
     "data": {
      "text/plain": [
       "(array([[ 2,  1,  3],\n",
       "        [ 3,  2, 10],\n",
       "        [ 8,  2, 12],\n",
       "        [ 8,  3, 16],\n",
       "        [ 9,  4,  6],\n",
       "        [10,  4,  3],\n",
       "        [10,  5,  6],\n",
       "        [11,  7,  7],\n",
       "        [13,  9, 18],\n",
       "        [13,  9, 19],\n",
       "        [13,  9,  7],\n",
       "        [14, 12, 18],\n",
       "        [14, 13, 15],\n",
       "        [14, 15,  7],\n",
       "        [15, 15,  1],\n",
       "        [15, 17, 18],\n",
       "        [15, 18, 16],\n",
       "        [16, 18,  5],\n",
       "        [19, 19, 16],\n",
       "        [19, 19,  9]]),\n",
       " [0, 0, 0, 0, 0, 0, 0, 1, 1, 1, 2, 2, 2, 2, 2, 2, 2, 2, 2, 2])"
      ]
     },
     "execution_count": 150,
     "metadata": {},
     "output_type": "execute_result"
    }
   ],
   "source": [
    "Ix,Iy=20,3\n",
    "X = np.random.randint(Ix, size=(20,3))\n",
    "Y= np.random.randint(Iy, size=20)\n",
    "for j in range(2):\n",
    "    X[:,j]=sorted(X[:,j])\n",
    "    Y=sorted(Y)\n",
    "X,Y\n"
   ]
  },
  {
   "cell_type": "code",
   "execution_count": 151,
   "id": "85f4331e",
   "metadata": {},
   "outputs": [
    {
     "data": {
      "image/png": "[encoded data removed]",
      "text/plain": [
       "<Figure size 640x480 with 1 Axes>"
      ]
     },
     "metadata": {},
     "output_type": "display_data"
    }
   ],
   "source": [
    "def plot_data_groups(X,Y,input_X):\n",
    "    colours=[\"b\",\"g\",\"y\"]\n",
    "    \n",
    "    \n",
    "    for i in range(X.shape[0]):\n",
    "        plt.scatter(X[i,0],X[i,1],marker=\"x\",c=colours[Y[i]])\n",
    " \n",
    "    plt.scatter(input_X[0],input_X[1],marker=\"x\")\n",
    "    plt.title(\"Data Distrubtion\")\n",
    "    plt.xlabel(\"first feature\")\n",
    "    plt.ylabel(\"Second feature\")\n",
    "plot_data_groups(X,Y,[12,15,14])"
   ]
  },
  {
   "cell_type": "code",
   "execution_count": 146,
   "id": "b56dfe6e",
   "metadata": {},
   "outputs": [
    {
     "name": "stdout",
     "output_type": "stream",
     "text": [
      "[[0. 0. 1. 1. 0. 0. 0. 0. 1. 0. 0. 0. 0. 1. 0. 0. 0. 1. 0. 0.]\n",
      " [0. 1. 1. 1. 0. 0. 0. 0. 0. 0. 0. 3. 0. 1. 0. 0. 2. 0. 1. 0.]\n",
      " [0. 0. 0. 0. 0. 0. 1. 0. 0. 0. 0. 0. 0. 0. 0. 2. 0. 1. 1. 0.]]\n",
      "[11  3 18 18 17 15  3  8  2  6 13 16 15 17  2 11 13 16  1 11]\n",
      "[1 1 1 2 2 2 0 0 1 2 0 1 2 0 0 1 1 1 1 1]\n",
      "[[2. 0. 1. 0. 0. 0. 0. 1. 0. 0. 0. 0. 0. 0. 0. 0. 0. 0. 1. 0.]\n",
      " [0. 2. 1. 0. 0. 0. 0. 0. 0. 2. 0. 1. 1. 0. 1. 0. 1. 0. 0. 1.]\n",
      " [0. 0. 2. 1. 0. 0. 0. 0. 0. 1. 0. 1. 0. 0. 0. 0. 0. 0. 0. 0.]]\n",
      "[16  9 14  9 11  2  7 18  1  3  0 19  2  0  2 12  2  1  9 11]\n",
      "[1 1 1 2 2 2 0 0 1 2 0 1 2 0 0 1 1 1 1 1]\n",
      "[[1. 0. 1. 0. 0. 0. 1. 0. 0. 0. 0. 0. 0. 1. 1. 0. 0. 0. 0. 0.]\n",
      " [0. 1. 1. 0. 1. 1. 1. 0. 0. 1. 0. 1. 0. 1. 1. 1. 0. 0. 0. 0.]\n",
      " [0. 0. 0. 0. 0. 0. 0. 0. 1. 0. 0. 1. 1. 0. 0. 1. 0. 1. 0. 0.]]\n",
      "[15  4  1 12 11  8  6 14 14 15 13  6 17  0  2  9  2 11  5 13]\n",
      "[1 1 1 2 2 2 0 0 1 2 0 1 2 0 0 1 1 1 1 1]\n"
     ]
    }
   ],
   "source": [
    "\n",
    "def Number_intersection(X,Y,Ix,Iy):\n",
    "    num_Y_And_X=np.zeros((X.shape[1],Iy,Ix))\n",
    "    num_Y=np.zeros(Iy)\n",
    "    for j in range(X.shape[1]):\n",
    "        for i in range(X.shape[0]):\n",
    "            num_Y_And_X[j,Y[i],X[i,j]]+=1\n",
    "            if (j==0):               \n",
    "                num_Y[Y[i]]+=1\n",
    "\n",
    "    \n",
    "\n",
    "\n",
    "    return num_Y_And_X,num_Y\n",
    "\n",
    "num_Y_And_X=Number_intersection(X,Y,Ix,Iy)[0]\n",
    "for j in range(X.shape[1]):\n",
    "    print(num_Y_And_X[j])\n",
    "    print(X[:,j])\n",
    "    print(Y)"
   ]
  },
  {
   "cell_type": "code",
   "execution_count": 147,
   "id": "50db554e",
   "metadata": {},
   "outputs": [
    {
     "data": {
      "text/plain": [
       "(array([[[0. , 0. , 0.2, 0.2, 0. , 0. , 0. , 0. , 0.2, 0. , 0. , 0. ,\n",
       "          0. , 0.2, 0. , 0. , 0. , 0.2, 0. , 0. ],\n",
       "         [0. , 0.1, 0.1, 0.1, 0. , 0. , 0. , 0. , 0. , 0. , 0. , 0.3,\n",
       "          0. , 0.1, 0. , 0. , 0.2, 0. , 0.1, 0. ],\n",
       "         [0. , 0. , 0. , 0. , 0. , 0. , 0.2, 0. , 0. , 0. , 0. , 0. ,\n",
       "          0. , 0. , 0. , 0.4, 0. , 0.2, 0.2, 0. ]],\n",
       " \n",
       "        [[0.4, 0. , 0.2, 0. , 0. , 0. , 0. , 0.2, 0. , 0. , 0. , 0. ,\n",
       "          0. , 0. , 0. , 0. , 0. , 0. , 0.2, 0. ],\n",
       "         [0. , 0.2, 0.1, 0. , 0. , 0. , 0. , 0. , 0. , 0.2, 0. , 0.1,\n",
       "          0.1, 0. , 0.1, 0. , 0.1, 0. , 0. , 0.1],\n",
       "         [0. , 0. , 0.4, 0.2, 0. , 0. , 0. , 0. , 0. , 0.2, 0. , 0.2,\n",
       "          0. , 0. , 0. , 0. , 0. , 0. , 0. , 0. ]],\n",
       " \n",
       "        [[0.2, 0. , 0.2, 0. , 0. , 0. , 0.2, 0. , 0. , 0. , 0. , 0. ,\n",
       "          0. , 0.2, 0.2, 0. , 0. , 0. , 0. , 0. ],\n",
       "         [0. , 0.1, 0.1, 0. , 0.1, 0.1, 0.1, 0. , 0. , 0.1, 0. , 0.1,\n",
       "          0. , 0.1, 0.1, 0.1, 0. , 0. , 0. , 0. ],\n",
       "         [0. , 0. , 0. , 0. , 0. , 0. , 0. , 0. , 0.2, 0. , 0. , 0.2,\n",
       "          0.2, 0. , 0. , 0.2, 0. , 0.2, 0. , 0. ]]]),\n",
       " array([0.25, 0.5 , 0.25]))"
      ]
     },
     "execution_count": 147,
     "metadata": {},
     "output_type": "execute_result"
    }
   ],
   "source": [
    "def Probabilities(X,Y,Ix,Iy):\n",
    "    num_Y_And_X,num_Y=Number_intersection(X,Y,Ix,Iy)\n",
    "    prob_X_Y=np.zeros((X.shape[1],Iy,Ix))\n",
    "    Prob_Y=np.zeros(Iy)\n",
    "    for i in range(Iy):\n",
    "        prob_X_Y[:,i]=num_Y_And_X[:,i]/num_Y[i]\n",
    "        Prob_Y[i]=num_Y[i]/len(Y)\n",
    "    return prob_X_Y,Prob_Y\n",
    "Probabilities(X,Y,Ix,Iy)"
   ]
  },
  {
   "cell_type": "code",
   "execution_count": 148,
   "id": "0554e97c",
   "metadata": {},
   "outputs": [
    {
     "data": {
      "text/plain": [
       "array([0., 0., 0.])"
      ]
     },
     "execution_count": 148,
     "metadata": {},
     "output_type": "execute_result"
    }
   ],
   "source": [
    "def Probability_prediction(X,Y,Ix,Iy,input_X):\n",
    "    Probabilities=Number_intersection(X,Y,Ix,Iy)\n",
    "    prob=np.ones(Iy)\n",
    "    for i in range(Iy):\n",
    "        for j in range(X.shape[1]):\n",
    "            prob[i]*=Probabilities[0][j,i,input_X[j]]\n",
    "        prob[i]*=Probabilities[1][i]\n",
    "    return prob\n",
    "\n",
    "Probability_prediction(X,Y,Ix,Iy,[0,0,1])"
   ]
  },
  {
   "cell_type": "code",
   "execution_count": 149,
   "id": "5383eed9",
   "metadata": {},
   "outputs": [
    {
     "data": {
      "text/plain": [
       "0"
      ]
     },
     "execution_count": 149,
     "metadata": {},
     "output_type": "execute_result"
    }
   ],
   "source": [
    "def prediction(X,Y,Ix,Iy,input_X):\n",
    "    prob=Probability_prediction(X,Y,Ix,Iy,input_X)\n",
    "    max_prob=prob[0]\n",
    "    classs=0\n",
    "    for i in range(Iy):\n",
    "        if (max_prob<prob[i]):\n",
    "            max_prob=prob[i]\n",
    "            classs=i\n",
    "    return classs\n",
    "prediction(X,Y,Ix,Iy,[12,15,14])"
   ]
  },
  {
   "cell_type": "code",
   "execution_count": null,
   "id": "2d6113a6",
   "metadata": {},
   "outputs": [],
   "source": []
  },
  {
   "cell_type": "code",
   "execution_count": null,
   "id": "409f3919",
   "metadata": {},
   "outputs": [],
   "source": []
  },
  {
   "cell_type": "code",
   "execution_count": null,
   "id": "583d7a7f",
   "metadata": {},
   "outputs": [],
   "source": []
  }
 ],
 "metadata": {
  "kernelspec": {
   "display_name": "Python 3 (ipykernel)",
   "language": "python",
   "name": "python3"
  },
  "language_info": {
   "codemirror_mode": {
    "name": "ipython",
    "version": 3
   },
   "file_extension": ".py",
   "mimetype": "text/x-python",
   "name": "python",
   "nbconvert_exporter": "python",
   "pygments_lexer": "ipython3",
   "version": "3.10.6"
  }
 },
 "nbformat": 4,
 "nbformat_minor": 5
}
